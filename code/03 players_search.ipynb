{
 "cells": [
  {
   "cell_type": "code",
   "execution_count": 90,
   "metadata": {},
   "outputs": [],
   "source": [
    "import os\n",
    "import pickle\n",
    "import numpy as np\n",
    "import pandas as pd\n",
    "import ipywidgets as widgets\n",
    "from IPython.display import display"
   ]
  },
  {
   "cell_type": "code",
   "execution_count": 91,
   "metadata": {},
   "outputs": [],
   "source": [
    "CODE_FOLDER = os.getcwd()\n",
    "DATA_FOLDER = os.getcwd().replace(\"code\", \"data\")"
   ]
  },
  {
   "cell_type": "code",
   "execution_count": 92,
   "metadata": {},
   "outputs": [
    {
     "data": {
      "text/plain": [
       "(751, 13)"
      ]
     },
     "execution_count": 92,
     "metadata": {},
     "output_type": "execute_result"
    }
   ],
   "source": [
    "df = pickle.load(open(DATA_FOLDER + \"/preprocessing_dataset\", \"rb\"))\n",
    "df.shape"
   ]
  },
  {
   "cell_type": "code",
   "execution_count": 93,
   "metadata": {},
   "outputs": [
    {
     "data": {
      "text/plain": [
       "Index(['team_id', 'team_name', 'main_scheme', 'player_id', 'player_name',\n",
       "       'height', 'weight', 'age', 'birth_area', 'passport_area', 'foot',\n",
       "       'main_role', 'contractExpiration'],\n",
       "      dtype='object')"
      ]
     },
     "execution_count": 93,
     "metadata": {},
     "output_type": "execute_result"
    }
   ],
   "source": [
    "df.columns"
   ]
  },
  {
   "cell_type": "code",
   "execution_count": 94,
   "metadata": {},
   "outputs": [
    {
     "data": {
      "text/html": [
       "<div>\n",
       "<style scoped>\n",
       "    .dataframe tbody tr th:only-of-type {\n",
       "        vertical-align: middle;\n",
       "    }\n",
       "\n",
       "    .dataframe tbody tr th {\n",
       "        vertical-align: top;\n",
       "    }\n",
       "\n",
       "    .dataframe thead th {\n",
       "        text-align: right;\n",
       "    }\n",
       "</style>\n",
       "<table border=\"1\" class=\"dataframe\">\n",
       "  <thead>\n",
       "    <tr style=\"text-align: right;\">\n",
       "      <th></th>\n",
       "      <th>team_id</th>\n",
       "      <th>team_name</th>\n",
       "      <th>main_scheme</th>\n",
       "      <th>player_id</th>\n",
       "      <th>player_name</th>\n",
       "      <th>height</th>\n",
       "      <th>weight</th>\n",
       "      <th>age</th>\n",
       "      <th>birth_area</th>\n",
       "      <th>passport_area</th>\n",
       "      <th>foot</th>\n",
       "      <th>main_role</th>\n",
       "      <th>contractExpiration</th>\n",
       "    </tr>\n",
       "  </thead>\n",
       "  <tbody>\n",
       "    <tr>\n",
       "      <th>0</th>\n",
       "      <td>3157.0</td>\n",
       "      <td>Milan</td>\n",
       "      <td>4-2-3-1</td>\n",
       "      <td>582906</td>\n",
       "      <td>P. Kalulu</td>\n",
       "      <td>179</td>\n",
       "      <td>69</td>\n",
       "      <td>20</td>\n",
       "      <td>France</td>\n",
       "      <td>Congo DR</td>\n",
       "      <td>right</td>\n",
       "      <td>Right Centre Back</td>\n",
       "      <td>2025</td>\n",
       "    </tr>\n",
       "    <tr>\n",
       "      <th>1</th>\n",
       "      <td>3157.0</td>\n",
       "      <td>Milan</td>\n",
       "      <td>4-2-3-1</td>\n",
       "      <td>558720</td>\n",
       "      <td>D. Maldini</td>\n",
       "      <td>181</td>\n",
       "      <td>70</td>\n",
       "      <td>19</td>\n",
       "      <td>Italy</td>\n",
       "      <td>Venezuela</td>\n",
       "      <td>right</td>\n",
       "      <td>Left Attacking Midfielder</td>\n",
       "      <td>2024</td>\n",
       "    </tr>\n",
       "    <tr>\n",
       "      <th>2</th>\n",
       "      <td>3157.0</td>\n",
       "      <td>Milan</td>\n",
       "      <td>4-2-3-1</td>\n",
       "      <td>20420</td>\n",
       "      <td>Z. Ibrahimović</td>\n",
       "      <td>195</td>\n",
       "      <td>95</td>\n",
       "      <td>39</td>\n",
       "      <td>Sweden</td>\n",
       "      <td>Bosnia-Herzegovina</td>\n",
       "      <td>right</td>\n",
       "      <td>Striker</td>\n",
       "      <td>2021</td>\n",
       "    </tr>\n",
       "    <tr>\n",
       "      <th>3</th>\n",
       "      <td>3157.0</td>\n",
       "      <td>Milan</td>\n",
       "      <td>4-2-3-1</td>\n",
       "      <td>20433</td>\n",
       "      <td>S. Kjær</td>\n",
       "      <td>190</td>\n",
       "      <td>86</td>\n",
       "      <td>32</td>\n",
       "      <td>Denmark</td>\n",
       "      <td>Denmark</td>\n",
       "      <td>right</td>\n",
       "      <td>Right Centre Back</td>\n",
       "      <td>2022</td>\n",
       "    </tr>\n",
       "    <tr>\n",
       "      <th>4</th>\n",
       "      <td>3157.0</td>\n",
       "      <td>Milan</td>\n",
       "      <td>4-2-3-1</td>\n",
       "      <td>83574</td>\n",
       "      <td>C. Tătărușanu</td>\n",
       "      <td>198</td>\n",
       "      <td>90</td>\n",
       "      <td>35</td>\n",
       "      <td>Romania</td>\n",
       "      <td>Romania</td>\n",
       "      <td>right</td>\n",
       "      <td>Goalkeeper</td>\n",
       "      <td>2023</td>\n",
       "    </tr>\n",
       "  </tbody>\n",
       "</table>\n",
       "</div>"
      ],
      "text/plain": [
       "   team_id team_name main_scheme  player_id     player_name  height  weight  \\\n",
       "0   3157.0     Milan     4-2-3-1     582906       P. Kalulu     179      69   \n",
       "1   3157.0     Milan     4-2-3-1     558720      D. Maldini     181      70   \n",
       "2   3157.0     Milan     4-2-3-1      20420  Z. Ibrahimović     195      95   \n",
       "3   3157.0     Milan     4-2-3-1      20433         S. Kjær     190      86   \n",
       "4   3157.0     Milan     4-2-3-1      83574   C. Tătărușanu     198      90   \n",
       "\n",
       "   age birth_area       passport_area   foot                  main_role  \\\n",
       "0   20     France            Congo DR  right          Right Centre Back   \n",
       "1   19      Italy           Venezuela  right  Left Attacking Midfielder   \n",
       "2   39     Sweden  Bosnia-Herzegovina  right                    Striker   \n",
       "3   32    Denmark             Denmark  right          Right Centre Back   \n",
       "4   35    Romania             Romania  right                 Goalkeeper   \n",
       "\n",
       "   contractExpiration  \n",
       "0                2025  \n",
       "1                2024  \n",
       "2                2021  \n",
       "3                2022  \n",
       "4                2023  "
      ]
     },
     "execution_count": 94,
     "metadata": {},
     "output_type": "execute_result"
    }
   ],
   "source": [
    "df.head()"
   ]
  },
  {
   "cell_type": "code",
   "execution_count": 95,
   "metadata": {},
   "outputs": [
    {
     "data": {
      "application/vnd.jupyter.widget-view+json": {
       "model_id": "766f5f51644549909b31abded2602136",
       "version_major": 2,
       "version_minor": 0
      },
      "text/plain": [
       "Dropdown(description='player to replace', options=('A. Adorante | N/A', 'A. Arnofoli | Bologna', 'A. Baldursso…"
      ]
     },
     "metadata": {},
     "output_type": "display_data"
    },
    {
     "data": {
      "application/vnd.jupyter.widget-view+json": {
       "model_id": "e0afe4c49e6a45f49bf143a008b90249",
       "version_major": 2,
       "version_minor": 0
      },
      "text/plain": [
       "SelectMultiple(description='team_name', options=('Atalanta', 'Benevento', 'Bologna', 'Cagliari', 'Crotone', 'F…"
      ]
     },
     "metadata": {},
     "output_type": "display_data"
    },
    {
     "data": {
      "application/vnd.jupyter.widget-view+json": {
       "model_id": "0ad25f01a3c64f1b8c953f39d4c7996b",
       "version_major": 2,
       "version_minor": 0
      },
      "text/plain": [
       "SelectMultiple(description='main_scheme', options=('3-4-1-2', '3-4-2-1', '3-4-3', '3-5-2', '4-2-3-1', '4-3-2-1…"
      ]
     },
     "metadata": {},
     "output_type": "display_data"
    },
    {
     "data": {
      "application/vnd.jupyter.widget-view+json": {
       "model_id": "ed4b942bca6b4a42b40e6ead19fa8ea6",
       "version_major": 2,
       "version_minor": 0
      },
      "text/plain": [
       "SelectMultiple(description='birth_area', options=('Albania', 'Angola', 'Argentina', 'Armenia', 'Austria', 'Bel…"
      ]
     },
     "metadata": {},
     "output_type": "display_data"
    },
    {
     "data": {
      "application/vnd.jupyter.widget-view+json": {
       "model_id": "8370cb0e0a774eea96af8d48ec6b85df",
       "version_major": 2,
       "version_minor": 0
      },
      "text/plain": [
       "SelectMultiple(description='passport_area', options=('Albania', 'Algeria', 'Angola', 'Argentina', 'Armenia', '…"
      ]
     },
     "metadata": {},
     "output_type": "display_data"
    },
    {
     "data": {
      "application/vnd.jupyter.widget-view+json": {
       "model_id": "ed505f13de17479fbaf64119a6084bde",
       "version_major": 2,
       "version_minor": 0
      },
      "text/plain": [
       "SelectMultiple(description='foot', options=('both', 'left', 'right'), value=())"
      ]
     },
     "metadata": {},
     "output_type": "display_data"
    },
    {
     "data": {
      "application/vnd.jupyter.widget-view+json": {
       "model_id": "e33551f9a7084148a49d485d7b0c1527",
       "version_major": 2,
       "version_minor": 0
      },
      "text/plain": [
       "SelectMultiple(description='main_role', options=('Attacking Midfielder', 'Centre Back', 'Defensive Midfielder'…"
      ]
     },
     "metadata": {},
     "output_type": "display_data"
    },
    {
     "data": {
      "application/vnd.jupyter.widget-view+json": {
       "model_id": "278c3cc8994244b393215a8bb11c139f",
       "version_major": 2,
       "version_minor": 0
      },
      "text/plain": [
       "IntRangeSlider(value=(15, 43), description='age', max=43, min=15)"
      ]
     },
     "metadata": {},
     "output_type": "display_data"
    },
    {
     "data": {
      "application/vnd.jupyter.widget-view+json": {
       "model_id": "9b670b5fc37c4ef083addf89e6e251e8",
       "version_major": 2,
       "version_minor": 0
      },
      "text/plain": [
       "IntRangeSlider(value=(163, 202), description='height', max=202, min=163)"
      ]
     },
     "metadata": {},
     "output_type": "display_data"
    },
    {
     "data": {
      "application/vnd.jupyter.widget-view+json": {
       "model_id": "c5a2cad9d42a458c93775a1847af3db4",
       "version_major": 2,
       "version_minor": 0
      },
      "text/plain": [
       "IntRangeSlider(value=(58, 96), description='weight', max=96, min=58)"
      ]
     },
     "metadata": {},
     "output_type": "display_data"
    },
    {
     "data": {
      "application/vnd.jupyter.widget-view+json": {
       "model_id": "65cc2b3be8e1492ba40b24665dcfa7d9",
       "version_major": 2,
       "version_minor": 0
      },
      "text/plain": [
       "IntRangeSlider(value=(2021, 2026), description='contractExpiration', max=2026, min=2021)"
      ]
     },
     "metadata": {},
     "output_type": "display_data"
    }
   ],
   "source": [
    "df[\"label\"] = df[\"player_name\"] + \" | \" + df[\"team_name\"]\n",
    "playerToSub = widgets.Dropdown(options=df[\"label\"].sort_values(), description=\"player to replace\")\n",
    "display(playerToSub)\n",
    "\n",
    "WIDGET_TYPE = {\n",
    "    \"category\":[\"team_name\", \"main_scheme\", \"birth_area\", \"passport_area\", \"foot\", \"main_role\"],\n",
    "    \"numeric\":[\"age\", \"height\", \"weight\", \"contractExpiration\"]\n",
    "}\n",
    "widgets_dict = {}\n",
    "for w_type in WIDGET_TYPE.keys():\n",
    "    for col in WIDGET_TYPE[w_type]:\n",
    "        options_list = [x for x in list(df[col].unique()) if x != \"N/A\" and x is not None]\n",
    "        if w_type == \"category\":\n",
    "            widgets_dict[col] = widgets.SelectMultiple(options=sorted(options_list), description=col)\n",
    "        elif w_type == \"numeric\":\n",
    "            min_, max_ = df[df[col] > 0][col].min(), df[df[col] > 0][col].max()\n",
    "            if col == \"contractExpiration\":\n",
    "                min_ = 2021\n",
    "            widgets_dict[col] = widgets.IntRangeSlider(value=[min_, max_], min=min_, max=max_, step=1, description=col)\n",
    "        display(widgets_dict[col])"
   ]
  },
  {
   "cell_type": "code",
   "execution_count": 96,
   "metadata": {},
   "outputs": [
    {
     "name": "stdout",
     "output_type": "stream",
     "text": [
      "main_role in ['Left Back', 'Left Back (5 at the back)', 'Left Wingback']\n",
      "age >= 15 and age <= 43\n",
      "height >= 163 and height <= 202\n",
      "weight >= 58 and weight <= 96\n",
      "contractExpiration >= 2021 and contractExpiration <= 2026\n"
     ]
    }
   ],
   "source": [
    "playerToReplace = playerToSub.value.split(\" | \")[0]\n",
    "playerToReplace_df = df[df.player_name == playerToReplace]\n",
    "\n",
    "selection = df.copy()\n",
    "for col in widgets_dict.keys():\n",
    "    if col in WIDGET_TYPE[\"category\"]:\n",
    "        values = list(widgets_dict[col].value)\n",
    "        if len(values) > 0:\n",
    "            query = col + \" in \" + str(values)\n",
    "            print(query)\n",
    "            selection = selection.query(query)\n",
    "    elif col in WIDGET_TYPE[\"numeric\"]:\n",
    "        query = col + \" >= \" + str(widgets_dict[col].value[0]) + \" and \" + col + \" <= \" + str(widgets_dict[col].value[1])\n",
    "        print(query)\n",
    "        selection = selection.query(query)\n",
    "\n",
    "selection[\"flagReplace\"] = False\n",
    "if playerToReplace not in selection.player_name.unique():\n",
    "    selection = pd.concat([selection, playerToReplace_df], axis=0)\n",
    "selection.loc[selection.player_name == playerToReplace, \"flagReplace\"] = True"
   ]
  },
  {
   "cell_type": "code",
   "execution_count": 97,
   "metadata": {},
   "outputs": [
    {
     "data": {
      "text/plain": [
       "team_id                               3172\n",
       "team_name                         Atalanta\n",
       "main_scheme                        3-4-1-2\n",
       "player_id                           295176\n",
       "player_name                      R. Gosens\n",
       "height                                 183\n",
       "weight                                  76\n",
       "age                                     26\n",
       "birth_area                     Netherlands\n",
       "passport_area                  Netherlands\n",
       "foot                                  left\n",
       "main_role                    Left Wingback\n",
       "contractExpiration                    2022\n",
       "label                 R. Gosens | Atalanta\n",
       "flagReplace                           True\n",
       "Name: 264, dtype: object"
      ]
     },
     "execution_count": 97,
     "metadata": {},
     "output_type": "execute_result"
    }
   ],
   "source": [
    "selection[selection.flagReplace == True].iloc[0]"
   ]
  },
  {
   "cell_type": "code",
   "execution_count": 98,
   "metadata": {},
   "outputs": [
    {
     "name": "stdout",
     "output_type": "stream",
     "text": [
      "There are 49 players selected!\n"
     ]
    }
   ],
   "source": [
    "print(\"There are \" + str(len(selection[selection.flagReplace == False])) + \" players selected!\")"
   ]
  },
  {
   "cell_type": "code",
   "execution_count": 99,
   "metadata": {},
   "outputs": [
    {
     "data": {
      "text/html": [
       "<div>\n",
       "<style scoped>\n",
       "    .dataframe tbody tr th:only-of-type {\n",
       "        vertical-align: middle;\n",
       "    }\n",
       "\n",
       "    .dataframe tbody tr th {\n",
       "        vertical-align: top;\n",
       "    }\n",
       "\n",
       "    .dataframe thead th {\n",
       "        text-align: right;\n",
       "    }\n",
       "</style>\n",
       "<table border=\"1\" class=\"dataframe\">\n",
       "  <thead>\n",
       "    <tr style=\"text-align: right;\">\n",
       "      <th></th>\n",
       "      <th>team_id</th>\n",
       "      <th>team_name</th>\n",
       "      <th>main_scheme</th>\n",
       "      <th>player_id</th>\n",
       "      <th>player_name</th>\n",
       "      <th>height</th>\n",
       "      <th>weight</th>\n",
       "      <th>age</th>\n",
       "      <th>birth_area</th>\n",
       "      <th>passport_area</th>\n",
       "      <th>foot</th>\n",
       "      <th>main_role</th>\n",
       "      <th>contractExpiration</th>\n",
       "      <th>label</th>\n",
       "      <th>flagReplace</th>\n",
       "    </tr>\n",
       "  </thead>\n",
       "  <tbody>\n",
       "    <tr>\n",
       "      <th>17</th>\n",
       "      <td>3157.0</td>\n",
       "      <td>Milan</td>\n",
       "      <td>4-2-3-1</td>\n",
       "      <td>344132</td>\n",
       "      <td>Theo Hernández</td>\n",
       "      <td>184</td>\n",
       "      <td>81</td>\n",
       "      <td>23</td>\n",
       "      <td>France</td>\n",
       "      <td>Spain</td>\n",
       "      <td>left</td>\n",
       "      <td>Left Back</td>\n",
       "      <td>2024</td>\n",
       "      <td>Theo Hernández | Milan</td>\n",
       "      <td>False</td>\n",
       "    </tr>\n",
       "    <tr>\n",
       "      <th>26</th>\n",
       "      <td>3158.0</td>\n",
       "      <td>Roma</td>\n",
       "      <td>3-4-3</td>\n",
       "      <td>542200</td>\n",
       "      <td>R. Calafiori</td>\n",
       "      <td>183</td>\n",
       "      <td>78</td>\n",
       "      <td>19</td>\n",
       "      <td>Italy</td>\n",
       "      <td>Italy</td>\n",
       "      <td>left</td>\n",
       "      <td>Left Back</td>\n",
       "      <td>2025</td>\n",
       "      <td>R. Calafiori | Roma</td>\n",
       "      <td>False</td>\n",
       "    </tr>\n",
       "    <tr>\n",
       "      <th>37</th>\n",
       "      <td>3158.0</td>\n",
       "      <td>Roma</td>\n",
       "      <td>3-4-3</td>\n",
       "      <td>44251</td>\n",
       "      <td>Bruno Peres</td>\n",
       "      <td>178</td>\n",
       "      <td>72</td>\n",
       "      <td>31</td>\n",
       "      <td>Brazil</td>\n",
       "      <td>Brazil</td>\n",
       "      <td>right</td>\n",
       "      <td>Left Wingback</td>\n",
       "      <td>2021</td>\n",
       "      <td>Bruno Peres | Roma</td>\n",
       "      <td>False</td>\n",
       "    </tr>\n",
       "    <tr>\n",
       "      <th>39</th>\n",
       "      <td>3158.0</td>\n",
       "      <td>Roma</td>\n",
       "      <td>3-4-3</td>\n",
       "      <td>190167</td>\n",
       "      <td>L. Spinazzola</td>\n",
       "      <td>186</td>\n",
       "      <td>75</td>\n",
       "      <td>28</td>\n",
       "      <td>Italy</td>\n",
       "      <td>Italy</td>\n",
       "      <td>right</td>\n",
       "      <td>Left Wingback</td>\n",
       "      <td>2024</td>\n",
       "      <td>L. Spinazzola | Roma</td>\n",
       "      <td>False</td>\n",
       "    </tr>\n",
       "    <tr>\n",
       "      <th>62</th>\n",
       "      <td>3159.0</td>\n",
       "      <td>Juventus</td>\n",
       "      <td>4-4-2</td>\n",
       "      <td>70084</td>\n",
       "      <td>Alex Sandro</td>\n",
       "      <td>181</td>\n",
       "      <td>81</td>\n",
       "      <td>30</td>\n",
       "      <td>Brazil</td>\n",
       "      <td>Brazil</td>\n",
       "      <td>left</td>\n",
       "      <td>Left Back</td>\n",
       "      <td>2023</td>\n",
       "      <td>Alex Sandro | Juventus</td>\n",
       "      <td>False</td>\n",
       "    </tr>\n",
       "  </tbody>\n",
       "</table>\n",
       "</div>"
      ],
      "text/plain": [
       "    team_id team_name main_scheme  player_id     player_name  height  weight  \\\n",
       "17   3157.0     Milan     4-2-3-1     344132  Theo Hernández     184      81   \n",
       "26   3158.0      Roma       3-4-3     542200    R. Calafiori     183      78   \n",
       "37   3158.0      Roma       3-4-3      44251     Bruno Peres     178      72   \n",
       "39   3158.0      Roma       3-4-3     190167   L. Spinazzola     186      75   \n",
       "62   3159.0  Juventus       4-4-2      70084     Alex Sandro     181      81   \n",
       "\n",
       "    age birth_area passport_area   foot      main_role  contractExpiration  \\\n",
       "17   23     France         Spain   left      Left Back                2024   \n",
       "26   19      Italy         Italy   left      Left Back                2025   \n",
       "37   31     Brazil        Brazil  right  Left Wingback                2021   \n",
       "39   28      Italy         Italy  right  Left Wingback                2024   \n",
       "62   30     Brazil        Brazil   left      Left Back                2023   \n",
       "\n",
       "                     label  flagReplace  \n",
       "17  Theo Hernández | Milan        False  \n",
       "26     R. Calafiori | Roma        False  \n",
       "37      Bruno Peres | Roma        False  \n",
       "39    L. Spinazzola | Roma        False  \n",
       "62  Alex Sandro | Juventus        False  "
      ]
     },
     "execution_count": 99,
     "metadata": {},
     "output_type": "execute_result"
    }
   ],
   "source": [
    "selection.head()"
   ]
  },
  {
   "cell_type": "code",
   "execution_count": 100,
   "metadata": {},
   "outputs": [],
   "source": [
    "pickle.dump(selection, open(DATA_FOLDER + \"/filter_dataset\", \"wb\"))"
   ]
  }
 ],
 "metadata": {
  "kernelspec": {
   "display_name": "Python 3",
   "language": "python",
   "name": "python3"
  },
  "language_info": {
   "codemirror_mode": {
    "name": "ipython",
    "version": 3
   },
   "file_extension": ".py",
   "mimetype": "text/x-python",
   "name": "python",
   "nbconvert_exporter": "python",
   "pygments_lexer": "ipython3",
   "version": "3.8.3"
  }
 },
 "nbformat": 4,
 "nbformat_minor": 4
}
