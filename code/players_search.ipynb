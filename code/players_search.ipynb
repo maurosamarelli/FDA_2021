{
 "cells": [
  {
   "cell_type": "code",
   "execution_count": 6,
   "metadata": {},
   "outputs": [],
   "source": [
    "import os\n",
    "import pickle\n",
    "import numpy as np\n",
    "import ipywidgets as widgets\n",
    "from IPython.display import display"
   ]
  },
  {
   "cell_type": "code",
   "execution_count": 7,
   "metadata": {},
   "outputs": [],
   "source": [
    "CODE_FOLDER = os.getcwd()\n",
    "DATA_FOLDER = os.getcwd().replace(\"code\", \"data\")"
   ]
  },
  {
   "cell_type": "code",
   "execution_count": 8,
   "metadata": {},
   "outputs": [
    {
     "data": {
      "text/plain": [
       "(752, 13)"
      ]
     },
     "execution_count": 8,
     "metadata": {},
     "output_type": "execute_result"
    }
   ],
   "source": [
    "df = pickle.load(open(DATA_FOLDER + \"/preprocessing_dataset\", \"rb\"))\n",
    "df.shape"
   ]
  },
  {
   "cell_type": "code",
   "execution_count": 9,
   "metadata": {},
   "outputs": [
    {
     "data": {
      "text/plain": [
       "Index(['team_id', 'team_name', 'main_scheme', 'player_id', 'player_name',\n",
       "       'height', 'weight', 'age', 'birth_area', 'passport_area', 'foot',\n",
       "       'main_role', 'contractExpiration'],\n",
       "      dtype='object')"
      ]
     },
     "execution_count": 9,
     "metadata": {},
     "output_type": "execute_result"
    }
   ],
   "source": [
    "df.columns"
   ]
  },
  {
   "cell_type": "code",
   "execution_count": 10,
   "metadata": {},
   "outputs": [
    {
     "data": {
      "text/html": [
       "<div>\n",
       "<style scoped>\n",
       "    .dataframe tbody tr th:only-of-type {\n",
       "        vertical-align: middle;\n",
       "    }\n",
       "\n",
       "    .dataframe tbody tr th {\n",
       "        vertical-align: top;\n",
       "    }\n",
       "\n",
       "    .dataframe thead th {\n",
       "        text-align: right;\n",
       "    }\n",
       "</style>\n",
       "<table border=\"1\" class=\"dataframe\">\n",
       "  <thead>\n",
       "    <tr style=\"text-align: right;\">\n",
       "      <th></th>\n",
       "      <th>team_id</th>\n",
       "      <th>team_name</th>\n",
       "      <th>main_scheme</th>\n",
       "      <th>player_id</th>\n",
       "      <th>player_name</th>\n",
       "      <th>height</th>\n",
       "      <th>weight</th>\n",
       "      <th>age</th>\n",
       "      <th>birth_area</th>\n",
       "      <th>passport_area</th>\n",
       "      <th>foot</th>\n",
       "      <th>main_role</th>\n",
       "      <th>contractExpiration</th>\n",
       "    </tr>\n",
       "  </thead>\n",
       "  <tbody>\n",
       "    <tr>\n",
       "      <th>0</th>\n",
       "      <td>3157.0</td>\n",
       "      <td>Milan</td>\n",
       "      <td>4-2-3-1</td>\n",
       "      <td>582906</td>\n",
       "      <td>P. Kalulu</td>\n",
       "      <td>179</td>\n",
       "      <td>69</td>\n",
       "      <td>20</td>\n",
       "      <td>France</td>\n",
       "      <td>Congo DR</td>\n",
       "      <td>right</td>\n",
       "      <td>Right Centre Back</td>\n",
       "      <td>2025.0</td>\n",
       "    </tr>\n",
       "    <tr>\n",
       "      <th>1</th>\n",
       "      <td>3157.0</td>\n",
       "      <td>Milan</td>\n",
       "      <td>4-2-3-1</td>\n",
       "      <td>558720</td>\n",
       "      <td>D. Maldini</td>\n",
       "      <td>181</td>\n",
       "      <td>70</td>\n",
       "      <td>19</td>\n",
       "      <td>Italy</td>\n",
       "      <td>Venezuela</td>\n",
       "      <td>right</td>\n",
       "      <td>Left Attacking Midfielder</td>\n",
       "      <td>2024.0</td>\n",
       "    </tr>\n",
       "    <tr>\n",
       "      <th>2</th>\n",
       "      <td>3157.0</td>\n",
       "      <td>Milan</td>\n",
       "      <td>4-2-3-1</td>\n",
       "      <td>20420</td>\n",
       "      <td>Z. Ibrahimović</td>\n",
       "      <td>195</td>\n",
       "      <td>95</td>\n",
       "      <td>39</td>\n",
       "      <td>Sweden</td>\n",
       "      <td>Bosnia-Herzegovina</td>\n",
       "      <td>right</td>\n",
       "      <td>Striker</td>\n",
       "      <td>2021.0</td>\n",
       "    </tr>\n",
       "    <tr>\n",
       "      <th>3</th>\n",
       "      <td>3157.0</td>\n",
       "      <td>Milan</td>\n",
       "      <td>4-2-3-1</td>\n",
       "      <td>20433</td>\n",
       "      <td>S. Kjær</td>\n",
       "      <td>190</td>\n",
       "      <td>86</td>\n",
       "      <td>32</td>\n",
       "      <td>Denmark</td>\n",
       "      <td>Denmark</td>\n",
       "      <td>right</td>\n",
       "      <td>Right Centre Back</td>\n",
       "      <td>2022.0</td>\n",
       "    </tr>\n",
       "    <tr>\n",
       "      <th>4</th>\n",
       "      <td>3157.0</td>\n",
       "      <td>Milan</td>\n",
       "      <td>4-2-3-1</td>\n",
       "      <td>83574</td>\n",
       "      <td>C. Tătărușanu</td>\n",
       "      <td>198</td>\n",
       "      <td>90</td>\n",
       "      <td>35</td>\n",
       "      <td>Romania</td>\n",
       "      <td>Romania</td>\n",
       "      <td>right</td>\n",
       "      <td>Goalkeeper</td>\n",
       "      <td>2023.0</td>\n",
       "    </tr>\n",
       "  </tbody>\n",
       "</table>\n",
       "</div>"
      ],
      "text/plain": [
       "   team_id team_name main_scheme  player_id     player_name  height  weight  \\\n",
       "0   3157.0     Milan     4-2-3-1     582906       P. Kalulu     179      69   \n",
       "1   3157.0     Milan     4-2-3-1     558720      D. Maldini     181      70   \n",
       "2   3157.0     Milan     4-2-3-1      20420  Z. Ibrahimović     195      95   \n",
       "3   3157.0     Milan     4-2-3-1      20433         S. Kjær     190      86   \n",
       "4   3157.0     Milan     4-2-3-1      83574   C. Tătărușanu     198      90   \n",
       "\n",
       "   age birth_area       passport_area   foot                  main_role  \\\n",
       "0   20     France            Congo DR  right          Right Centre Back   \n",
       "1   19      Italy           Venezuela  right  Left Attacking Midfielder   \n",
       "2   39     Sweden  Bosnia-Herzegovina  right                    Striker   \n",
       "3   32    Denmark             Denmark  right          Right Centre Back   \n",
       "4   35    Romania             Romania  right                 Goalkeeper   \n",
       "\n",
       "   contractExpiration  \n",
       "0              2025.0  \n",
       "1              2024.0  \n",
       "2              2021.0  \n",
       "3              2022.0  \n",
       "4              2023.0  "
      ]
     },
     "execution_count": 10,
     "metadata": {},
     "output_type": "execute_result"
    }
   ],
   "source": [
    "df.head()"
   ]
  },
  {
   "cell_type": "code",
   "execution_count": 11,
   "metadata": {},
   "outputs": [
    {
     "data": {
      "application/vnd.jupyter.widget-view+json": {
       "model_id": "340c8ccf81a44012a0ae6b6d203dd0a6",
       "version_major": 2,
       "version_minor": 0
      },
      "text/plain": [
       "SelectMultiple(description='team_name', options=('Atalanta', 'Benevento', 'Bologna', 'Cagliari', 'Crotone', 'F…"
      ]
     },
     "metadata": {},
     "output_type": "display_data"
    },
    {
     "data": {
      "application/vnd.jupyter.widget-view+json": {
       "model_id": "eb520e3e206443e4aa6f75a10949a678",
       "version_major": 2,
       "version_minor": 0
      },
      "text/plain": [
       "SelectMultiple(description='main_scheme', options=('3-4-1-2', '3-4-2-1', '3-4-3', '3-5-2', '4-2-3-1', '4-3-2-1…"
      ]
     },
     "metadata": {},
     "output_type": "display_data"
    },
    {
     "data": {
      "application/vnd.jupyter.widget-view+json": {
       "model_id": "26b9a1879b1e4c2d9c88d31ac9e7cfda",
       "version_major": 2,
       "version_minor": 0
      },
      "text/plain": [
       "SelectMultiple(description='birth_area', options=('Albania', 'Angola', 'Argentina', 'Armenia', 'Austria', 'Bel…"
      ]
     },
     "metadata": {},
     "output_type": "display_data"
    },
    {
     "data": {
      "application/vnd.jupyter.widget-view+json": {
       "model_id": "8192cd1498d04cb4ad827e908faff8ea",
       "version_major": 2,
       "version_minor": 0
      },
      "text/plain": [
       "SelectMultiple(description='passport_area', options=('Albania', 'Algeria', 'Angola', 'Argentina', 'Armenia', '…"
      ]
     },
     "metadata": {},
     "output_type": "display_data"
    },
    {
     "data": {
      "application/vnd.jupyter.widget-view+json": {
       "model_id": "3c055226f55c43848bd5c72c2b5d2d88",
       "version_major": 2,
       "version_minor": 0
      },
      "text/plain": [
       "SelectMultiple(description='foot', options=('both', 'left', 'right'), value=())"
      ]
     },
     "metadata": {},
     "output_type": "display_data"
    },
    {
     "data": {
      "application/vnd.jupyter.widget-view+json": {
       "model_id": "d985c4b0764a4e0cac259d9b1da1c4cb",
       "version_major": 2,
       "version_minor": 0
      },
      "text/plain": [
       "SelectMultiple(description='main_role', options=('Attacking Midfielder', 'Centre Back', 'Defensive Midfielder'…"
      ]
     },
     "metadata": {},
     "output_type": "display_data"
    },
    {
     "data": {
      "application/vnd.jupyter.widget-view+json": {
       "model_id": "4973a376baa6469ab53aa7af3d541330",
       "version_major": 2,
       "version_minor": 0
      },
      "text/plain": [
       "IntRangeSlider(value=(15, 43), description='age', max=43, min=15)"
      ]
     },
     "metadata": {},
     "output_type": "display_data"
    },
    {
     "data": {
      "application/vnd.jupyter.widget-view+json": {
       "model_id": "0e943449d4024ce4863fd81762c5f1d0",
       "version_major": 2,
       "version_minor": 0
      },
      "text/plain": [
       "IntRangeSlider(value=(163, 202), description='height', max=202, min=163)"
      ]
     },
     "metadata": {},
     "output_type": "display_data"
    },
    {
     "data": {
      "application/vnd.jupyter.widget-view+json": {
       "model_id": "da113564b48945e8aef37b58de134021",
       "version_major": 2,
       "version_minor": 0
      },
      "text/plain": [
       "IntRangeSlider(value=(58, 96), description='weight', max=96, min=58)"
      ]
     },
     "metadata": {},
     "output_type": "display_data"
    },
    {
     "data": {
      "application/vnd.jupyter.widget-view+json": {
       "model_id": "c482135ea17143c99b05dfc40fea2d87",
       "version_major": 2,
       "version_minor": 0
      },
      "text/plain": [
       "IntRangeSlider(value=(2021, 2026), description='contractExpiration', max=2026, min=2021)"
      ]
     },
     "metadata": {},
     "output_type": "display_data"
    }
   ],
   "source": [
    "WIDGET_TYPE = {\n",
    "    \"category\":[\"team_name\", \"main_scheme\", \"birth_area\", \"passport_area\", \"foot\", \"main_role\"],\n",
    "    \"numeric\":[\"age\", \"height\", \"weight\", \"contractExpiration\"]\n",
    "}\n",
    "widgets_dict = {}\n",
    "for w_type in WIDGET_TYPE.keys():\n",
    "    for col in WIDGET_TYPE[w_type]:\n",
    "        options_list = [x for x in list(df[col].unique()) if x == x and x is not None]\n",
    "        if w_type == \"category\":\n",
    "            widgets_dict[col] = widgets.SelectMultiple(options=sorted(options_list), description=col)\n",
    "        elif w_type == \"numeric\":\n",
    "            min_, max_ = df[df[col] > 0][col].min(), df[df[col] > 0][col].max()\n",
    "            if col == \"contractExpiration\":\n",
    "                min_ = 2021\n",
    "            widgets_dict[col] = widgets.IntRangeSlider(value=[min_, max_], min=min_, max=max_, step=1, description=col)\n",
    "        display(widgets_dict[col])"
   ]
  },
  {
   "cell_type": "code",
   "execution_count": 15,
   "metadata": {},
   "outputs": [
    {
     "name": "stdout",
     "output_type": "stream",
     "text": [
      "team_name in ['Atalanta', 'Juventus', 'Lazio', 'Milan', 'Napoli', 'Roma', 'Sassuolo']\n",
      "main_role in ['Attacking Midfielder', 'Defensive Midfielder', 'Left Centre Midfielder', 'Left Defensive Midfielder', 'Right Centre Midfielder', 'Right Defensive Midfielder']\n",
      "age >= 25 and age <= 32\n",
      "height >= 163 and height <= 202\n",
      "weight >= 58 and weight <= 96\n",
      "contractExpiration >= 2021 and contractExpiration <= 2023\n"
     ]
    }
   ],
   "source": [
    "aux = df.copy()\n",
    "for col in widgets_dict.keys():\n",
    "    if col in WIDGET_TYPE[\"category\"]:\n",
    "        values = list(widgets_dict[col].value)\n",
    "        if len(values) > 0:\n",
    "            query = col + \" in \" + str(values)\n",
    "            print(query)\n",
    "            aux = aux.query(query)\n",
    "    elif col in WIDGET_TYPE[\"numeric\"]:\n",
    "        query = col + \" >= \" + str(widgets_dict[col].value[0]) + \" and \" + col + \" <= \" + str(widgets_dict[col].value[1])\n",
    "        print(query)\n",
    "        aux = aux.query(query)"
   ]
  },
  {
   "cell_type": "code",
   "execution_count": 16,
   "metadata": {},
   "outputs": [
    {
     "name": "stdout",
     "output_type": "stream",
     "text": [
      "There are 13 players selected!\n"
     ]
    }
   ],
   "source": [
    "print(\"There are \" + str(len(aux)) + \" players selected!\")"
   ]
  },
  {
   "cell_type": "code",
   "execution_count": 17,
   "metadata": {},
   "outputs": [
    {
     "data": {
      "text/html": [
       "<div>\n",
       "<style scoped>\n",
       "    .dataframe tbody tr th:only-of-type {\n",
       "        vertical-align: middle;\n",
       "    }\n",
       "\n",
       "    .dataframe tbody tr th {\n",
       "        vertical-align: top;\n",
       "    }\n",
       "\n",
       "    .dataframe thead th {\n",
       "        text-align: right;\n",
       "    }\n",
       "</style>\n",
       "<table border=\"1\" class=\"dataframe\">\n",
       "  <thead>\n",
       "    <tr style=\"text-align: right;\">\n",
       "      <th></th>\n",
       "      <th>team_id</th>\n",
       "      <th>team_name</th>\n",
       "      <th>main_scheme</th>\n",
       "      <th>player_id</th>\n",
       "      <th>player_name</th>\n",
       "      <th>height</th>\n",
       "      <th>weight</th>\n",
       "      <th>age</th>\n",
       "      <th>birth_area</th>\n",
       "      <th>passport_area</th>\n",
       "      <th>foot</th>\n",
       "      <th>main_role</th>\n",
       "      <th>contractExpiration</th>\n",
       "    </tr>\n",
       "  </thead>\n",
       "  <tbody>\n",
       "    <tr>\n",
       "      <th>7</th>\n",
       "      <td>3157.0</td>\n",
       "      <td>Milan</td>\n",
       "      <td>4-2-3-1</td>\n",
       "      <td>15524</td>\n",
       "      <td>H. Çalhanoğlu</td>\n",
       "      <td>178</td>\n",
       "      <td>76</td>\n",
       "      <td>27</td>\n",
       "      <td>Turkey</td>\n",
       "      <td>Turkey</td>\n",
       "      <td>right</td>\n",
       "      <td>Attacking Midfielder</td>\n",
       "      <td>2021.0</td>\n",
       "    </tr>\n",
       "    <tr>\n",
       "      <th>8</th>\n",
       "      <td>3157.0</td>\n",
       "      <td>Milan</td>\n",
       "      <td>4-2-3-1</td>\n",
       "      <td>25504</td>\n",
       "      <td>S. Meïté</td>\n",
       "      <td>187</td>\n",
       "      <td>91</td>\n",
       "      <td>27</td>\n",
       "      <td>France</td>\n",
       "      <td>Côte d'Ivoire</td>\n",
       "      <td>right</td>\n",
       "      <td>Right Centre Midfielder</td>\n",
       "      <td>2023.0</td>\n",
       "    </tr>\n",
       "    <tr>\n",
       "      <th>27</th>\n",
       "      <td>3158.0</td>\n",
       "      <td>Roma</td>\n",
       "      <td>3-4-3</td>\n",
       "      <td>25440</td>\n",
       "      <td>J. Pastore</td>\n",
       "      <td>187</td>\n",
       "      <td>78</td>\n",
       "      <td>31</td>\n",
       "      <td>Argentina</td>\n",
       "      <td>Italy</td>\n",
       "      <td>right</td>\n",
       "      <td>Attacking Midfielder</td>\n",
       "      <td>2023.0</td>\n",
       "    </tr>\n",
       "    <tr>\n",
       "      <th>31</th>\n",
       "      <td>3158.0</td>\n",
       "      <td>Roma</td>\n",
       "      <td>3-4-3</td>\n",
       "      <td>105338</td>\n",
       "      <td>H. Mkhitaryan</td>\n",
       "      <td>177</td>\n",
       "      <td>75</td>\n",
       "      <td>32</td>\n",
       "      <td>Armenia</td>\n",
       "      <td>Armenia</td>\n",
       "      <td>right</td>\n",
       "      <td>Attacking Midfielder</td>\n",
       "      <td>2021.0</td>\n",
       "    </tr>\n",
       "    <tr>\n",
       "      <th>66</th>\n",
       "      <td>3159.0</td>\n",
       "      <td>Juventus</td>\n",
       "      <td>4-4-2</td>\n",
       "      <td>209117</td>\n",
       "      <td>A. Rabiot</td>\n",
       "      <td>188</td>\n",
       "      <td>71</td>\n",
       "      <td>26</td>\n",
       "      <td>France</td>\n",
       "      <td>France</td>\n",
       "      <td>left</td>\n",
       "      <td>Left Centre Midfielder</td>\n",
       "      <td>2023.0</td>\n",
       "    </tr>\n",
       "  </tbody>\n",
       "</table>\n",
       "</div>"
      ],
      "text/plain": [
       "    team_id team_name main_scheme  player_id    player_name  height  weight  \\\n",
       "7    3157.0     Milan     4-2-3-1      15524  H. Çalhanoğlu     178      76   \n",
       "8    3157.0     Milan     4-2-3-1      25504       S. Meïté     187      91   \n",
       "27   3158.0      Roma       3-4-3      25440     J. Pastore     187      78   \n",
       "31   3158.0      Roma       3-4-3     105338  H. Mkhitaryan     177      75   \n",
       "66   3159.0  Juventus       4-4-2     209117      A. Rabiot     188      71   \n",
       "\n",
       "    age birth_area  passport_area   foot                main_role  \\\n",
       "7    27     Turkey         Turkey  right     Attacking Midfielder   \n",
       "8    27     France  Côte d'Ivoire  right  Right Centre Midfielder   \n",
       "27   31  Argentina          Italy  right     Attacking Midfielder   \n",
       "31   32    Armenia        Armenia  right     Attacking Midfielder   \n",
       "66   26     France         France   left   Left Centre Midfielder   \n",
       "\n",
       "    contractExpiration  \n",
       "7               2021.0  \n",
       "8               2023.0  \n",
       "27              2023.0  \n",
       "31              2021.0  \n",
       "66              2023.0  "
      ]
     },
     "execution_count": 17,
     "metadata": {},
     "output_type": "execute_result"
    }
   ],
   "source": [
    "aux.head()"
   ]
  },
  {
   "cell_type": "code",
   "execution_count": 19,
   "metadata": {},
   "outputs": [],
   "source": [
    "pickle.dump(aux, open(DATA_FOLDER + \"/filter_dataset\", \"wb\"))"
   ]
  }
 ],
 "metadata": {
  "kernelspec": {
   "display_name": "Python 3",
   "language": "python",
   "name": "python3"
  },
  "language_info": {
   "codemirror_mode": {
    "name": "ipython",
    "version": 3
   },
   "file_extension": ".py",
   "mimetype": "text/x-python",
   "name": "python",
   "nbconvert_exporter": "python",
   "pygments_lexer": "ipython3",
   "version": "3.8.3"
  }
 },
 "nbformat": 4,
 "nbformat_minor": 4
}
