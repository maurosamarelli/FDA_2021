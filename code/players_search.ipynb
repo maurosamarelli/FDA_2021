{
 "cells": [
  {
   "cell_type": "code",
   "execution_count": 1,
   "metadata": {},
   "outputs": [],
   "source": [
    "import os\n",
    "import pickle\n",
    "import numpy as np\n",
    "import ipywidgets as widgets\n",
    "from IPython.display import display"
   ]
  },
  {
   "cell_type": "code",
   "execution_count": 2,
   "metadata": {},
   "outputs": [],
   "source": [
    "CODE_FOLDER = os.getcwd()\n",
    "DATA_FOLDER = os.getcwd().replace(\"code\", \"data\")"
   ]
  },
  {
   "cell_type": "code",
   "execution_count": 3,
   "metadata": {},
   "outputs": [
    {
     "data": {
      "text/plain": [
       "(752, 13)"
      ]
     },
     "execution_count": 3,
     "metadata": {},
     "output_type": "execute_result"
    }
   ],
   "source": [
    "df = pickle.load(open(DATA_FOLDER + \"/preprocessing_dataset\", \"rb\"))\n",
    "df.shape"
   ]
  },
  {
   "cell_type": "code",
   "execution_count": 4,
   "metadata": {},
   "outputs": [
    {
     "data": {
      "text/plain": [
       "Index(['team_id', 'team_name', 'main_scheme', 'player_id', 'player_name',\n",
       "       'height', 'weight', 'age', 'birth_area', 'passport_area', 'foot',\n",
       "       'main_role', 'contractExpiration'],\n",
       "      dtype='object')"
      ]
     },
     "execution_count": 4,
     "metadata": {},
     "output_type": "execute_result"
    }
   ],
   "source": [
    "df.columns"
   ]
  },
  {
   "cell_type": "code",
   "execution_count": 19,
   "metadata": {},
   "outputs": [
    {
     "data": {
      "application/vnd.jupyter.widget-view+json": {
       "model_id": "273ec38797724471aa4869ad18563307",
       "version_major": 2,
       "version_minor": 0
      },
      "text/plain": [
       "SelectMultiple(description='team_name', options=('Atalanta', 'Benevento', 'Bologna', 'Cagliari', 'Crotone', 'F…"
      ]
     },
     "metadata": {},
     "output_type": "display_data"
    },
    {
     "data": {
      "application/vnd.jupyter.widget-view+json": {
       "model_id": "1d334cd5b14a47d8a475637ebdcfe418",
       "version_major": 2,
       "version_minor": 0
      },
      "text/plain": [
       "SelectMultiple(description='main_scheme', options=('3-4-1-2', '3-4-2-1', '3-4-3', '3-5-2', '4-2-3-1', '4-3-2-1…"
      ]
     },
     "metadata": {},
     "output_type": "display_data"
    },
    {
     "data": {
      "application/vnd.jupyter.widget-view+json": {
       "model_id": "34529bc3be7f4a2a9fc8b816646d4c7d",
       "version_major": 2,
       "version_minor": 0
      },
      "text/plain": [
       "SelectMultiple(description='birth_area', options=('AGO', 'ALB', 'ARG', 'ARM', 'AUT', 'BEL', 'BGR', 'BIH', 'BRA…"
      ]
     },
     "metadata": {},
     "output_type": "display_data"
    },
    {
     "data": {
      "application/vnd.jupyter.widget-view+json": {
       "model_id": "8ab631cd8f4c4a6a97cdf9ebad5a60e9",
       "version_major": 2,
       "version_minor": 0
      },
      "text/plain": [
       "SelectMultiple(description='passport_area', options=('AGO', 'ALB', 'ARG', 'ARM', 'AUT', 'BEL', 'BEN', 'BFA', '…"
      ]
     },
     "metadata": {},
     "output_type": "display_data"
    },
    {
     "data": {
      "application/vnd.jupyter.widget-view+json": {
       "model_id": "3751f54742a44b53ae72348eb3c8dc41",
       "version_major": 2,
       "version_minor": 0
      },
      "text/plain": [
       "SelectMultiple(description='foot', options=('both', 'left', 'right'), value=())"
      ]
     },
     "metadata": {},
     "output_type": "display_data"
    },
    {
     "data": {
      "application/vnd.jupyter.widget-view+json": {
       "model_id": "8f3757f2c0c54da2823149d5985a0124",
       "version_major": 2,
       "version_minor": 0
      },
      "text/plain": [
       "SelectMultiple(description='main_role', options=('Attacking Midfielder', 'Centre Back', 'Defensive Midfielder'…"
      ]
     },
     "metadata": {},
     "output_type": "display_data"
    },
    {
     "data": {
      "application/vnd.jupyter.widget-view+json": {
       "model_id": "84a58638ad5b435a9fc049e374d00665",
       "version_major": 2,
       "version_minor": 0
      },
      "text/plain": [
       "IntRangeSlider(value=(15, 43), description='age', max=43, min=15)"
      ]
     },
     "metadata": {},
     "output_type": "display_data"
    },
    {
     "data": {
      "application/vnd.jupyter.widget-view+json": {
       "model_id": "7a01233fcd47426fa90188d019697a36",
       "version_major": 2,
       "version_minor": 0
      },
      "text/plain": [
       "IntRangeSlider(value=(163, 202), description='height', max=202, min=163)"
      ]
     },
     "metadata": {},
     "output_type": "display_data"
    },
    {
     "data": {
      "application/vnd.jupyter.widget-view+json": {
       "model_id": "f579a27ae18045a69a359b2646042802",
       "version_major": 2,
       "version_minor": 0
      },
      "text/plain": [
       "IntRangeSlider(value=(58, 96), description='weight', max=96, min=58)"
      ]
     },
     "metadata": {},
     "output_type": "display_data"
    },
    {
     "data": {
      "application/vnd.jupyter.widget-view+json": {
       "model_id": "5a281c1549254e09b6259bbdb11ccea2",
       "version_major": 2,
       "version_minor": 0
      },
      "text/plain": [
       "IntRangeSlider(value=(2021, 2026), description='contractExpiration', max=2026, min=2021)"
      ]
     },
     "metadata": {},
     "output_type": "display_data"
    }
   ],
   "source": [
    "WIDGET_TYPE = {\n",
    "    \"category\":[\"team_name\", \"main_scheme\", \"birth_area\", \"passport_area\", \"foot\", \"main_role\"],\n",
    "    \"numeric\":[\"age\", \"height\", \"weight\", \"contractExpiration\"]\n",
    "}\n",
    "widgets_dict = {}\n",
    "for w_type in WIDGET_TYPE.keys():\n",
    "    for col in WIDGET_TYPE[w_type]:\n",
    "        options_list = [x for x in list(df[col].unique()) if x == x and x is not None]\n",
    "        if w_type == \"category\":\n",
    "            widgets_dict[col] = widgets.SelectMultiple(options=sorted(options_list), description=col)\n",
    "        elif w_type == \"numeric\":\n",
    "            min_, max_ = df[df[col] > 0][col].min(), df[df[col] > 0][col].max()\n",
    "            if col == \"contractExpiration\":\n",
    "                min_ = 2021\n",
    "            widgets_dict[col] = widgets.IntRangeSlider(value=[min_, max_], min=min_, max=max_, step=1, description=col)\n",
    "        display(widgets_dict[col])"
   ]
  },
  {
   "cell_type": "code",
   "execution_count": 23,
   "metadata": {},
   "outputs": [
    {
     "name": "stdout",
     "output_type": "stream",
     "text": [
      "main_scheme in ['3-4-1-2', '3-4-2-1', '4-2-3-1', '4-3-2-1', '4-4-1-1']\n",
      "foot in ['both', 'left', 'right']\n",
      "main_role in ['Attacking Midfielder', 'Second Striker']\n",
      "age >= 20 and age <= 35\n",
      "height >= 163 and height <= 202\n",
      "weight >= 58 and weight <= 96\n",
      "contractExpiration >= 2021 and contractExpiration <= 2024\n"
     ]
    }
   ],
   "source": [
    "aux = df.copy()\n",
    "for col in widgets_dict.keys():\n",
    "    if col in WIDGET_TYPE[\"category\"]:\n",
    "        values = list(widgets_dict[col].value)\n",
    "        if len(values) > 0:\n",
    "            query = col + \" in \" + str(values)\n",
    "            print(query)\n",
    "            aux = aux.query(query)\n",
    "    elif col in WIDGET_TYPE[\"numeric\"]:\n",
    "        query = col + \" >= \" + str(widgets_dict[col].value[0]) + \" and \" + col + \" <= \" + str(widgets_dict[col].value[1])\n",
    "        print(query)\n",
    "        aux = aux.query(query)"
   ]
  },
  {
   "cell_type": "code",
   "execution_count": 24,
   "metadata": {},
   "outputs": [
    {
     "data": {
      "text/html": [
       "<div>\n",
       "<style scoped>\n",
       "    .dataframe tbody tr th:only-of-type {\n",
       "        vertical-align: middle;\n",
       "    }\n",
       "\n",
       "    .dataframe tbody tr th {\n",
       "        vertical-align: top;\n",
       "    }\n",
       "\n",
       "    .dataframe thead th {\n",
       "        text-align: right;\n",
       "    }\n",
       "</style>\n",
       "<table border=\"1\" class=\"dataframe\">\n",
       "  <thead>\n",
       "    <tr style=\"text-align: right;\">\n",
       "      <th></th>\n",
       "      <th>team_id</th>\n",
       "      <th>team_name</th>\n",
       "      <th>main_scheme</th>\n",
       "      <th>player_id</th>\n",
       "      <th>player_name</th>\n",
       "      <th>height</th>\n",
       "      <th>weight</th>\n",
       "      <th>age</th>\n",
       "      <th>birth_area</th>\n",
       "      <th>passport_area</th>\n",
       "      <th>foot</th>\n",
       "      <th>main_role</th>\n",
       "      <th>contractExpiration</th>\n",
       "    </tr>\n",
       "  </thead>\n",
       "  <tbody>\n",
       "    <tr>\n",
       "      <th>7</th>\n",
       "      <td>3157.0</td>\n",
       "      <td>Milan</td>\n",
       "      <td>4-2-3-1</td>\n",
       "      <td>15524</td>\n",
       "      <td>H. Çalhanoğlu</td>\n",
       "      <td>178</td>\n",
       "      <td>76</td>\n",
       "      <td>27</td>\n",
       "      <td>TUR</td>\n",
       "      <td>TUR</td>\n",
       "      <td>right</td>\n",
       "      <td>Attacking Midfielder</td>\n",
       "      <td>2021.0</td>\n",
       "    </tr>\n",
       "    <tr>\n",
       "      <th>12</th>\n",
       "      <td>3157.0</td>\n",
       "      <td>Milan</td>\n",
       "      <td>4-2-3-1</td>\n",
       "      <td>254493</td>\n",
       "      <td>R. Krunić</td>\n",
       "      <td>184</td>\n",
       "      <td>74</td>\n",
       "      <td>27</td>\n",
       "      <td>BIH</td>\n",
       "      <td>BIH</td>\n",
       "      <td>right</td>\n",
       "      <td>Attacking Midfielder</td>\n",
       "      <td>2024.0</td>\n",
       "    </tr>\n",
       "    <tr>\n",
       "      <th>199</th>\n",
       "      <td>3164.0</td>\n",
       "      <td>Sampdoria</td>\n",
       "      <td>4-4-1-1</td>\n",
       "      <td>20689</td>\n",
       "      <td>G. Ramírez</td>\n",
       "      <td>183</td>\n",
       "      <td>78</td>\n",
       "      <td>30</td>\n",
       "      <td>URY</td>\n",
       "      <td>URY</td>\n",
       "      <td>left</td>\n",
       "      <td>Attacking Midfielder</td>\n",
       "      <td>2021.0</td>\n",
       "    </tr>\n",
       "    <tr>\n",
       "      <th>202</th>\n",
       "      <td>3164.0</td>\n",
       "      <td>Sampdoria</td>\n",
       "      <td>4-4-1-1</td>\n",
       "      <td>21775</td>\n",
       "      <td>E. Torregrossa</td>\n",
       "      <td>184</td>\n",
       "      <td>87</td>\n",
       "      <td>28</td>\n",
       "      <td>ITA</td>\n",
       "      <td>VEN</td>\n",
       "      <td>left</td>\n",
       "      <td>Second Striker</td>\n",
       "      <td>2022.0</td>\n",
       "    </tr>\n",
       "    <tr>\n",
       "      <th>226</th>\n",
       "      <td>3166.0</td>\n",
       "      <td>Bologna</td>\n",
       "      <td>4-2-3-1</td>\n",
       "      <td>20623</td>\n",
       "      <td>R. Soriano</td>\n",
       "      <td>182</td>\n",
       "      <td>76</td>\n",
       "      <td>30</td>\n",
       "      <td>DEU</td>\n",
       "      <td>ITA</td>\n",
       "      <td>right</td>\n",
       "      <td>Attacking Midfielder</td>\n",
       "      <td>2023.0</td>\n",
       "    </tr>\n",
       "    <tr>\n",
       "      <th>246</th>\n",
       "      <td>3172.0</td>\n",
       "      <td>Atalanta</td>\n",
       "      <td>3-4-1-2</td>\n",
       "      <td>20820</td>\n",
       "      <td>J. Iličić</td>\n",
       "      <td>190</td>\n",
       "      <td>79</td>\n",
       "      <td>33</td>\n",
       "      <td>SVN</td>\n",
       "      <td>HRV</td>\n",
       "      <td>left</td>\n",
       "      <td>Second Striker</td>\n",
       "      <td>2022.0</td>\n",
       "    </tr>\n",
       "    <tr>\n",
       "      <th>256</th>\n",
       "      <td>3172.0</td>\n",
       "      <td>Atalanta</td>\n",
       "      <td>3-4-1-2</td>\n",
       "      <td>138548</td>\n",
       "      <td>R. Malinovskiy</td>\n",
       "      <td>181</td>\n",
       "      <td>79</td>\n",
       "      <td>28</td>\n",
       "      <td>UKR</td>\n",
       "      <td>UKR</td>\n",
       "      <td>left</td>\n",
       "      <td>Attacking Midfielder</td>\n",
       "      <td>2023.0</td>\n",
       "    </tr>\n",
       "    <tr>\n",
       "      <th>258</th>\n",
       "      <td>3172.0</td>\n",
       "      <td>Atalanta</td>\n",
       "      <td>3-4-1-2</td>\n",
       "      <td>262048</td>\n",
       "      <td>Aleksey Miranchuk</td>\n",
       "      <td>182</td>\n",
       "      <td>67</td>\n",
       "      <td>25</td>\n",
       "      <td>RUS</td>\n",
       "      <td>RUS</td>\n",
       "      <td>left</td>\n",
       "      <td>Attacking Midfielder</td>\n",
       "      <td>2024.0</td>\n",
       "    </tr>\n",
       "    <tr>\n",
       "      <th>261</th>\n",
       "      <td>3172.0</td>\n",
       "      <td>Atalanta</td>\n",
       "      <td>3-4-1-2</td>\n",
       "      <td>272893</td>\n",
       "      <td>M. Pessina</td>\n",
       "      <td>183</td>\n",
       "      <td>75</td>\n",
       "      <td>24</td>\n",
       "      <td>ITA</td>\n",
       "      <td>ITA</td>\n",
       "      <td>left</td>\n",
       "      <td>Attacking Midfielder</td>\n",
       "      <td>2022.0</td>\n",
       "    </tr>\n",
       "    <tr>\n",
       "      <th>358</th>\n",
       "      <td>3187.0</td>\n",
       "      <td>Napoli</td>\n",
       "      <td>4-2-3-1</td>\n",
       "      <td>99902</td>\n",
       "      <td>P. Zieliński</td>\n",
       "      <td>180</td>\n",
       "      <td>75</td>\n",
       "      <td>27</td>\n",
       "      <td>POL</td>\n",
       "      <td>POL</td>\n",
       "      <td>right</td>\n",
       "      <td>Attacking Midfielder</td>\n",
       "      <td>2024.0</td>\n",
       "    </tr>\n",
       "    <tr>\n",
       "      <th>401</th>\n",
       "      <td>3194.0</td>\n",
       "      <td>Hellas Verona</td>\n",
       "      <td>3-4-2-1</td>\n",
       "      <td>559712</td>\n",
       "      <td>E. Colley</td>\n",
       "      <td>179</td>\n",
       "      <td>75</td>\n",
       "      <td>21</td>\n",
       "      <td>GMB</td>\n",
       "      <td>GMB</td>\n",
       "      <td>right</td>\n",
       "      <td>Attacking Midfielder</td>\n",
       "      <td>2024.0</td>\n",
       "    </tr>\n",
       "    <tr>\n",
       "      <th>416</th>\n",
       "      <td>3194.0</td>\n",
       "      <td>Hellas Verona</td>\n",
       "      <td>3-4-2-1</td>\n",
       "      <td>22381</td>\n",
       "      <td>Daniel Bessa</td>\n",
       "      <td>178</td>\n",
       "      <td>68</td>\n",
       "      <td>28</td>\n",
       "      <td>BRA</td>\n",
       "      <td>ITA</td>\n",
       "      <td>right</td>\n",
       "      <td>Attacking Midfielder</td>\n",
       "      <td>2022.0</td>\n",
       "    </tr>\n",
       "    <tr>\n",
       "      <th>420</th>\n",
       "      <td>3194.0</td>\n",
       "      <td>Hellas Verona</td>\n",
       "      <td>3-4-2-1</td>\n",
       "      <td>246633</td>\n",
       "      <td>M. Zaccagni</td>\n",
       "      <td>177</td>\n",
       "      <td>63</td>\n",
       "      <td>25</td>\n",
       "      <td>ITA</td>\n",
       "      <td>ITA</td>\n",
       "      <td>right</td>\n",
       "      <td>Attacking Midfielder</td>\n",
       "      <td>2022.0</td>\n",
       "    </tr>\n",
       "    <tr>\n",
       "      <th>422</th>\n",
       "      <td>3194.0</td>\n",
       "      <td>Hellas Verona</td>\n",
       "      <td>3-4-2-1</td>\n",
       "      <td>265172</td>\n",
       "      <td>A. Barák</td>\n",
       "      <td>190</td>\n",
       "      <td>86</td>\n",
       "      <td>26</td>\n",
       "      <td>CZE</td>\n",
       "      <td>CZE</td>\n",
       "      <td>left</td>\n",
       "      <td>Attacking Midfielder</td>\n",
       "      <td>2022.0</td>\n",
       "    </tr>\n",
       "    <tr>\n",
       "      <th>496</th>\n",
       "      <td>3219.0</td>\n",
       "      <td>Benevento</td>\n",
       "      <td>4-3-2-1</td>\n",
       "      <td>21865</td>\n",
       "      <td>M. Sau</td>\n",
       "      <td>169</td>\n",
       "      <td>65</td>\n",
       "      <td>33</td>\n",
       "      <td>ITA</td>\n",
       "      <td>ITA</td>\n",
       "      <td>right</td>\n",
       "      <td>Attacking Midfielder</td>\n",
       "      <td>2021.0</td>\n",
       "    </tr>\n",
       "    <tr>\n",
       "      <th>501</th>\n",
       "      <td>3219.0</td>\n",
       "      <td>Benevento</td>\n",
       "      <td>4-3-2-1</td>\n",
       "      <td>8148</td>\n",
       "      <td>Iago Falqué</td>\n",
       "      <td>174</td>\n",
       "      <td>69</td>\n",
       "      <td>31</td>\n",
       "      <td>ESP</td>\n",
       "      <td>ESP</td>\n",
       "      <td>left</td>\n",
       "      <td>Attacking Midfielder</td>\n",
       "      <td>2022.0</td>\n",
       "    </tr>\n",
       "    <tr>\n",
       "      <th>508</th>\n",
       "      <td>3219.0</td>\n",
       "      <td>Benevento</td>\n",
       "      <td>4-3-2-1</td>\n",
       "      <td>21376</td>\n",
       "      <td>G. Caprari</td>\n",
       "      <td>176</td>\n",
       "      <td>72</td>\n",
       "      <td>27</td>\n",
       "      <td>ITA</td>\n",
       "      <td>ITA</td>\n",
       "      <td>right</td>\n",
       "      <td>Attacking Midfielder</td>\n",
       "      <td>2023.0</td>\n",
       "    </tr>\n",
       "    <tr>\n",
       "      <th>513</th>\n",
       "      <td>3219.0</td>\n",
       "      <td>Benevento</td>\n",
       "      <td>4-3-2-1</td>\n",
       "      <td>246634</td>\n",
       "      <td>R. Insigne</td>\n",
       "      <td>171</td>\n",
       "      <td>65</td>\n",
       "      <td>27</td>\n",
       "      <td>ITA</td>\n",
       "      <td>ITA</td>\n",
       "      <td>left</td>\n",
       "      <td>Attacking Midfielder</td>\n",
       "      <td>2021.0</td>\n",
       "    </tr>\n",
       "    <tr>\n",
       "      <th>526</th>\n",
       "      <td>3315.0</td>\n",
       "      <td>Sassuolo</td>\n",
       "      <td>4-2-3-1</td>\n",
       "      <td>174</td>\n",
       "      <td>F. Đuričić</td>\n",
       "      <td>176</td>\n",
       "      <td>69</td>\n",
       "      <td>29</td>\n",
       "      <td>SRB</td>\n",
       "      <td>SRB</td>\n",
       "      <td>right</td>\n",
       "      <td>Attacking Midfielder</td>\n",
       "      <td>2022.0</td>\n",
       "    </tr>\n",
       "    <tr>\n",
       "      <th>530</th>\n",
       "      <td>3315.0</td>\n",
       "      <td>Sassuolo</td>\n",
       "      <td>4-2-3-1</td>\n",
       "      <td>23149</td>\n",
       "      <td>G. Defrel</td>\n",
       "      <td>180</td>\n",
       "      <td>79</td>\n",
       "      <td>29</td>\n",
       "      <td>FRA</td>\n",
       "      <td>MTQ</td>\n",
       "      <td>left</td>\n",
       "      <td>Attacking Midfielder</td>\n",
       "      <td>2024.0</td>\n",
       "    </tr>\n",
       "    <tr>\n",
       "      <th>543</th>\n",
       "      <td>3315.0</td>\n",
       "      <td>Sassuolo</td>\n",
       "      <td>4-2-3-1</td>\n",
       "      <td>518165</td>\n",
       "      <td>H. Traoré</td>\n",
       "      <td>184</td>\n",
       "      <td>77</td>\n",
       "      <td>21</td>\n",
       "      <td>CIV</td>\n",
       "      <td>CIV</td>\n",
       "      <td>right</td>\n",
       "      <td>Attacking Midfielder</td>\n",
       "      <td>2022.0</td>\n",
       "    </tr>\n",
       "  </tbody>\n",
       "</table>\n",
       "</div>"
      ],
      "text/plain": [
       "     team_id      team_name main_scheme  player_id        player_name  height  \\\n",
       "7     3157.0          Milan     4-2-3-1      15524      H. Çalhanoğlu     178   \n",
       "12    3157.0          Milan     4-2-3-1     254493          R. Krunić     184   \n",
       "199   3164.0      Sampdoria     4-4-1-1      20689         G. Ramírez     183   \n",
       "202   3164.0      Sampdoria     4-4-1-1      21775     E. Torregrossa     184   \n",
       "226   3166.0        Bologna     4-2-3-1      20623         R. Soriano     182   \n",
       "246   3172.0       Atalanta     3-4-1-2      20820          J. Iličić     190   \n",
       "256   3172.0       Atalanta     3-4-1-2     138548     R. Malinovskiy     181   \n",
       "258   3172.0       Atalanta     3-4-1-2     262048  Aleksey Miranchuk     182   \n",
       "261   3172.0       Atalanta     3-4-1-2     272893         M. Pessina     183   \n",
       "358   3187.0         Napoli     4-2-3-1      99902       P. Zieliński     180   \n",
       "401   3194.0  Hellas Verona     3-4-2-1     559712          E. Colley     179   \n",
       "416   3194.0  Hellas Verona     3-4-2-1      22381       Daniel Bessa     178   \n",
       "420   3194.0  Hellas Verona     3-4-2-1     246633        M. Zaccagni     177   \n",
       "422   3194.0  Hellas Verona     3-4-2-1     265172           A. Barák     190   \n",
       "496   3219.0      Benevento     4-3-2-1      21865             M. Sau     169   \n",
       "501   3219.0      Benevento     4-3-2-1       8148        Iago Falqué     174   \n",
       "508   3219.0      Benevento     4-3-2-1      21376         G. Caprari     176   \n",
       "513   3219.0      Benevento     4-3-2-1     246634         R. Insigne     171   \n",
       "526   3315.0       Sassuolo     4-2-3-1        174         F. Đuričić     176   \n",
       "530   3315.0       Sassuolo     4-2-3-1      23149          G. Defrel     180   \n",
       "543   3315.0       Sassuolo     4-2-3-1     518165          H. Traoré     184   \n",
       "\n",
       "     weight  age birth_area passport_area   foot             main_role  \\\n",
       "7        76   27        TUR           TUR  right  Attacking Midfielder   \n",
       "12       74   27        BIH           BIH  right  Attacking Midfielder   \n",
       "199      78   30        URY           URY   left  Attacking Midfielder   \n",
       "202      87   28        ITA           VEN   left        Second Striker   \n",
       "226      76   30        DEU           ITA  right  Attacking Midfielder   \n",
       "246      79   33        SVN           HRV   left        Second Striker   \n",
       "256      79   28        UKR           UKR   left  Attacking Midfielder   \n",
       "258      67   25        RUS           RUS   left  Attacking Midfielder   \n",
       "261      75   24        ITA           ITA   left  Attacking Midfielder   \n",
       "358      75   27        POL           POL  right  Attacking Midfielder   \n",
       "401      75   21        GMB           GMB  right  Attacking Midfielder   \n",
       "416      68   28        BRA           ITA  right  Attacking Midfielder   \n",
       "420      63   25        ITA           ITA  right  Attacking Midfielder   \n",
       "422      86   26        CZE           CZE   left  Attacking Midfielder   \n",
       "496      65   33        ITA           ITA  right  Attacking Midfielder   \n",
       "501      69   31        ESP           ESP   left  Attacking Midfielder   \n",
       "508      72   27        ITA           ITA  right  Attacking Midfielder   \n",
       "513      65   27        ITA           ITA   left  Attacking Midfielder   \n",
       "526      69   29        SRB           SRB  right  Attacking Midfielder   \n",
       "530      79   29        FRA           MTQ   left  Attacking Midfielder   \n",
       "543      77   21        CIV           CIV  right  Attacking Midfielder   \n",
       "\n",
       "     contractExpiration  \n",
       "7                2021.0  \n",
       "12               2024.0  \n",
       "199              2021.0  \n",
       "202              2022.0  \n",
       "226              2023.0  \n",
       "246              2022.0  \n",
       "256              2023.0  \n",
       "258              2024.0  \n",
       "261              2022.0  \n",
       "358              2024.0  \n",
       "401              2024.0  \n",
       "416              2022.0  \n",
       "420              2022.0  \n",
       "422              2022.0  \n",
       "496              2021.0  \n",
       "501              2022.0  \n",
       "508              2023.0  \n",
       "513              2021.0  \n",
       "526              2022.0  \n",
       "530              2024.0  \n",
       "543              2022.0  "
      ]
     },
     "execution_count": 24,
     "metadata": {},
     "output_type": "execute_result"
    }
   ],
   "source": [
    "aux"
   ]
  }
 ],
 "metadata": {
  "kernelspec": {
   "display_name": "Python 3",
   "language": "python",
   "name": "python3"
  },
  "language_info": {
   "codemirror_mode": {
    "name": "ipython",
    "version": 3
   },
   "file_extension": ".py",
   "mimetype": "text/x-python",
   "name": "python",
   "nbconvert_exporter": "python",
   "pygments_lexer": "ipython3",
   "version": "3.8.3"
  }
 },
 "nbformat": 4,
 "nbformat_minor": 4
}
